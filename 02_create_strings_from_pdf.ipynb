{
 "cells": [
  {
   "cell_type": "code",
   "execution_count": 1,
   "metadata": {},
   "outputs": [],
   "source": [
    "import os\n",
    "import glob\n",
    "import csv\n",
    "\n",
    "from PyPDF2 import PdfFileReader, PdfFileWriter"
   ]
  },
  {
   "cell_type": "code",
   "execution_count": 2,
   "metadata": {},
   "outputs": [],
   "source": [
    "def func_clean_txt(list_of_strings):\n",
    "\n",
    "    list_of_strings_cleaned = []\n",
    "    for string in list_of_strings:\n",
    "        # preprocess pages (saved as strings in list_of_strings)\n",
    "        \n",
    "        # clean indicators \\n\n",
    "        string = string.replace(\"\\n\",\"\")\n",
    "        \n",
    "        list_of_strings_cleaned.append(string)\n",
    "    \n",
    "    return list_of_strings_cleaned"
   ]
  },
  {
   "cell_type": "code",
   "execution_count": 3,
   "metadata": {},
   "outputs": [],
   "source": [
    "# Set filepath and directory\n",
    "directory_cleaned_PDF = os.path.join(\"data\",\"cleaned\",\"PDF\",\"\")\n",
    "directory_cleaned_txt = os.path.join(\"data\",\"cleaned\", \"TXT\")"
   ]
  },
  {
   "cell_type": "code",
   "execution_count": 4,
   "metadata": {},
   "outputs": [],
   "source": [
    "# check if input directory exists\n",
    "if not os.path.isdir(directory_cleaned_PDF):\n",
    "    raise ValueError(\"Directory \" + directory_cleaned_PDF + \" does not exists. Please specify correct data input directory holding the business plans.\")\n",
    "    \n",
    "if not os.path.isdir(directory_cleaned_txt):\n",
    "    os.makedirs(directory_cleaned_txt)"
   ]
  },
  {
   "cell_type": "code",
   "execution_count": 5,
   "metadata": {},
   "outputs": [],
   "source": [
    "# Get filepath for all business plans in .pdf-Format\n",
    "directory_cleaned_PDF_list = glob.glob(directory_cleaned_PDF + \"*.pdf\")"
   ]
  },
  {
   "cell_type": "code",
   "execution_count": 6,
   "metadata": {},
   "outputs": [],
   "source": [
    "# define path to PDF\n",
    "for filepath in directory_cleaned_PDF_list:\n",
    "\n",
    "    # define name of PDF\n",
    "    pdf_name = filepath.replace(directory_cleaned_PDF, \"\").replace(os.path.join(\".pdf\"), \"\")\n",
    "    \n",
    "    # load PDF from directory\n",
    "    pdf_cleaned = PdfFileReader(filepath)\n",
    "    \n",
    "    # get PDF text\n",
    "    # saved as list of strings where each string represents a page\n",
    "    pdf_text = []\n",
    "    for page in range(pdf_cleaned.getNumPages()):\n",
    "        pdf_text.append(\"\".join(map(str,pdf_cleaned.getPage(page).extractText())))\n",
    "    \n",
    "    # clean strings\n",
    "    pdf_text_cleaned = func_clean_txt(pdf_text)\n",
    "    pdf_name = pdf_name+\"_cleanedTXT\"\n",
    "    \n",
    "    with open(os.path.join(directory_cleaned_txt,pdf_name + \".txt\"), \"w\") as f:\n",
    "        for page in pdf_text_cleaned:\n",
    "            f.write(\"%s\\n\" % page)"
   ]
  },
  {
   "cell_type": "code",
   "execution_count": null,
   "metadata": {},
   "outputs": [],
   "source": []
  }
 ],
 "metadata": {
  "kernelspec": {
   "display_name": "Python 3",
   "language": "python",
   "name": "python3"
  },
  "language_info": {
   "codemirror_mode": {
    "name": "ipython",
    "version": 3
   },
   "file_extension": ".py",
   "mimetype": "text/x-python",
   "name": "python",
   "nbconvert_exporter": "python",
   "pygments_lexer": "ipython3",
   "version": "3.8.5"
  }
 },
 "nbformat": 4,
 "nbformat_minor": 5
}
