{
 "cells": [
  {
   "cell_type": "code",
   "execution_count": 1,
   "metadata": {},
   "outputs": [],
   "source": [
    "import os\n",
    "import glob\n",
    "\n",
    "import pandas as pd\n",
    "\n",
    "import texthero as hero\n",
    "from texthero import preprocessing\n",
    "\n",
    "# root word\n",
    "from nltk.stem import WordNetLemmatizer\n",
    "from nltk.tokenize import word_tokenize"
   ]
  },
  {
   "cell_type": "code",
   "execution_count": 2,
   "metadata": {},
   "outputs": [],
   "source": [
    "def func_count_keywords(pandas_series_of_strings, list_keywords):\n",
    "    series_count_keywords = pd.Series(dtype=\"float64\")\n",
    "    \n",
    "    # lemmatize text\n",
    "    wordnet_lemmatizer = WordNetLemmatizer()\n",
    "    \n",
    "    list_lemmatized_words = []\n",
    "    for string in pandas_series_of_strings:\n",
    "        for word in word_tokenize(string):\n",
    "            list_lemmatized_words.append(wordnet_lemmatizer.lemmatize(word, pos=\"v\"))\n",
    "\n",
    "    \n",
    "    for keyword in list_keywords:\n",
    "        str_lemmatized_keyword = wordnet_lemmatizer.lemmatize(keyword, pos=\"v\")\n",
    "        series_count_keywords[keyword] = list_lemmatized_words.count(str_lemmatized_keyword)\n",
    "        \n",
    "    return series_count_keywords"
   ]
  },
  {
   "cell_type": "code",
   "execution_count": 3,
   "metadata": {},
   "outputs": [],
   "source": [
    "# create a custom cleaning pipeline\n",
    "custom_pipeline = [preprocessing.fillna,\n",
    "                   preprocessing.lowercase,\n",
    "                   preprocessing.remove_digits,\n",
    "                   preprocessing.remove_punctuation,\n",
    "                   preprocessing.remove_diacritics,\n",
    "                   preprocessing.remove_stopwords,\n",
    "                   preprocessing.remove_whitespace,\n",
    "                   #preprocessing.stem,                  # pass the custom_pipeline to the pipeline argument\n",
    "                  ]"
   ]
  },
  {
   "cell_type": "code",
   "execution_count": 4,
   "metadata": {},
   "outputs": [],
   "source": [
    "# Set filepath and directory\n",
    "directory_cleaned_txt = os.path.join(\"data\",\"cleaned\", \"TXT\",\"\")\n",
    "directory_output_csv  = os.path.join(\"data\",\"output\",\"CSV\")"
   ]
  },
  {
   "cell_type": "code",
   "execution_count": 5,
   "metadata": {},
   "outputs": [],
   "source": [
    "# check if input directory exists\n",
    "if not os.path.isdir(directory_cleaned_txt):\n",
    "    raise ValueError(\"Directory \" + directory_cleaned_txt + \" does not exists. Please specify correct data input directory holding the business plans.\")\n",
    "    \n",
    "if not os.path.isdir(directory_output_csv):\n",
    "    os.makedirs(directory_output_csv)"
   ]
  },
  {
   "cell_type": "code",
   "execution_count": 6,
   "metadata": {},
   "outputs": [],
   "source": [
    "# Get filepath for all business plans in .txt-Format\n",
    "directory_cleaned_txt_list = glob.glob(directory_cleaned_txt + \"*.txt\")"
   ]
  },
  {
   "cell_type": "code",
   "execution_count": 7,
   "metadata": {},
   "outputs": [],
   "source": [
    "# initialize pandas dataframe to be appended\n",
    "df_library = pd.DataFrame()\n",
    "\n",
    "# choose library \n",
    "# !!! do NOT use \"_\" in the name !!!\n",
    "library = \"libraryOne\"\n",
    "\n",
    "\n",
    "# define keywords through chosen library\n",
    "if library == \"libraryOne\":\n",
    "    list_keywords_library = ['refuse', 'rethink', 'reduce', 'reuse', 'repair', 'refurbish', 'remanufacture', 'repurpose', 'recycle', 'recover']\n",
    "elif library == \"libraryTwo\":\n",
    "    list_keywords_library = ['refuse', 'rethink', 'reduce', 'reuse', 'repair', 'refurbish', 'remanufacture', 'repurpose', 'recycle', 'recover']\n",
    "else:\n",
    "    raise ValueError('Library ' + library + ' is not defined!')"
   ]
  },
  {
   "cell_type": "code",
   "execution_count": 8,
   "metadata": {},
   "outputs": [],
   "source": [
    "# loop over all path to .txt-files\n",
    "for filepath in directory_cleaned_txt_list:\n",
    "\n",
    "    # define name of library to save\n",
    "    name_to_save = filepath.replace(directory_cleaned_txt, \"\").replace(os.path.join(\".txt\"), \"\")\n",
    "    name_to_save = name_to_save + \"_\" + library\n",
    "    \n",
    "    # import business plans as list of strings where each string represents a page\n",
    "    with open(filepath) as f:\n",
    "        text_pages = f.readlines()\n",
    "        \n",
    "    # clean text pages using customized pipeline\n",
    "    series_text_pages = pd.Series(text_pages, dtype=\"string\")\n",
    "    series_text_pages_cleaned = hero.clean(series_text_pages, custom_pipeline)\n",
    "    \n",
    "    # count the frequency of each keyword in cleaned text\n",
    "    series_count_keywords = func_count_keywords(series_text_pages_cleaned, list_keywords_library)\n",
    "\n",
    "    # create pandas Dataframe holding name and library (occurence of keywords)\n",
    "    df_tmp = pd.DataFrame(series_count_keywords.values.reshape(1,-1), columns=series_count_keywords.index.to_list())\n",
    "    df_tmp.insert(0, \"Name\", name_to_save)\n",
    "    \n",
    "    # concat dataframes to existing one\n",
    "    df_library = pd.concat([df_library, df_tmp], ignore_index=True)"
   ]
  },
  {
   "cell_type": "code",
   "execution_count": 9,
   "metadata": {},
   "outputs": [],
   "source": [
    "# save library One as csv\n",
    "df_library.to_csv(os.path.join(directory_output_csv, \"circular_index_\" + library + \".csv\"), sep=';', decimal=',', index=False)"
   ]
  },
  {
   "cell_type": "code",
   "execution_count": null,
   "metadata": {},
   "outputs": [],
   "source": []
  }
 ],
 "metadata": {
  "kernelspec": {
   "display_name": "Python 3",
   "language": "python",
   "name": "python3"
  },
  "language_info": {
   "codemirror_mode": {
    "name": "ipython",
    "version": 3
   },
   "file_extension": ".py",
   "mimetype": "text/x-python",
   "name": "python",
   "nbconvert_exporter": "python",
   "pygments_lexer": "ipython3",
   "version": "3.8.5"
  }
 },
 "nbformat": 4,
 "nbformat_minor": 5
}
